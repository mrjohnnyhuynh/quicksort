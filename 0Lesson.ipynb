{
 "cells": [
  {
   "cell_type": "markdown",
   "id": "grand-orange",
   "metadata": {
    "slideshow": {
     "slide_type": "slide"
    }
   },
   "source": [
    "# Intro to Quicksort\n",
    "\n",
    "<img style=\"float:right;\" src=\"quicksort.gif\">\n",
    "\n",
    "\n",
    "1. Why another sort?\n",
    "1. Pseudo Code\n",
    "1. Real Code\n",
    "1. So what?\n"
   ]
  },
  {
   "cell_type": "markdown",
   "id": "blocked-circuit",
   "metadata": {
    "slideshow": {
     "slide_type": "slide"
    }
   },
   "source": [
    "# Why another sort?\n",
    "\n",
    "1. Divide and Conquer\n",
    "1. Recursion\n",
    "1. Complexity"
   ]
  },
  {
   "cell_type": "markdown",
   "id": "handed-analysis",
   "metadata": {
    "slideshow": {
     "slide_type": "slide"
    }
   },
   "source": [
    "# Pseudo Code\n",
    "\n",
    "1. Pick a pivot (an item on the end is easiest)\n",
    "1. Smaller on the left, larger on the right\n",
    "    - Make sure the pivot is in the right place!\n",
    "1. Quicksort the left; Quicksort the right"
   ]
  },
  {
   "cell_type": "markdown",
   "id": "found-stake",
   "metadata": {
    "slideshow": {
     "slide_type": "subslide"
    }
   },
   "source": [
    "![](Slide1.PNG)"
   ]
  },
  {
   "cell_type": "markdown",
   "id": "apart-visiting",
   "metadata": {
    "slideshow": {
     "slide_type": "subslide"
    }
   },
   "source": [
    "![](Slide2.PNG)"
   ]
  },
  {
   "cell_type": "markdown",
   "id": "increased-barcelona",
   "metadata": {
    "slideshow": {
     "slide_type": "subslide"
    }
   },
   "source": [
    "![](Slide3.PNG)"
   ]
  },
  {
   "cell_type": "markdown",
   "id": "promising-property",
   "metadata": {
    "slideshow": {
     "slide_type": "subslide"
    }
   },
   "source": [
    "![](Slide4.PNG)"
   ]
  },
  {
   "cell_type": "markdown",
   "id": "dressed-marine",
   "metadata": {
    "slideshow": {
     "slide_type": "subslide"
    }
   },
   "source": [
    "![](Slide5.PNG)"
   ]
  },
  {
   "cell_type": "markdown",
   "id": "flexible-commander",
   "metadata": {
    "slideshow": {
     "slide_type": "subslide"
    }
   },
   "source": [
    "![](Slide6.PNG)"
   ]
  },
  {
   "cell_type": "markdown",
   "id": "present-strip",
   "metadata": {
    "slideshow": {
     "slide_type": "subslide"
    }
   },
   "source": [
    "![](Slide7.PNG)"
   ]
  },
  {
   "cell_type": "markdown",
   "id": "helpful-mapping",
   "metadata": {
    "slideshow": {
     "slide_type": "subslide"
    }
   },
   "source": [
    "![](Slide8.PNG)"
   ]
  },
  {
   "cell_type": "markdown",
   "id": "polished-gravity",
   "metadata": {
    "slideshow": {
     "slide_type": "subslide"
    }
   },
   "source": [
    "![](Slide9.PNG)"
   ]
  },
  {
   "cell_type": "markdown",
   "id": "guided-alliance",
   "metadata": {
    "slideshow": {
     "slide_type": "subslide"
    }
   },
   "source": [
    "![](Slide10.PNG)"
   ]
  },
  {
   "cell_type": "markdown",
   "id": "worth-lawsuit",
   "metadata": {
    "slideshow": {
     "slide_type": "subslide"
    }
   },
   "source": [
    "![](Slide11.PNG)"
   ]
  },
  {
   "cell_type": "markdown",
   "id": "pleased-determination",
   "metadata": {
    "slideshow": {
     "slide_type": "slide"
    }
   },
   "source": [
    "# Real Code\n",
    "\n",
    "We need two functions:\n",
    "\n",
    "1. `quicksort( array, start, end )`\n",
    "    - no return value\n",
    "    \n",
    "1. `partition( array, start, end )`\n",
    "    - returns index of a pivot"
   ]
  },
  {
   "cell_type": "code",
   "execution_count": 2,
   "id": "residential-reach",
   "metadata": {
    "slideshow": {
     "slide_type": "subslide"
    }
   },
   "outputs": [],
   "source": [
    "# quicksort should be first called with 0 and len(array)\n",
    "def quicksort(array, left, right):\n",
    "    if ( left < right ):\n",
    "        pivot = partition( )\n",
    "        quicksort( )\n",
    "        quicksort( )"
   ]
  },
  {
   "cell_type": "code",
   "execution_count": 3,
   "id": "boxed-there",
   "metadata": {
    "slideshow": {
     "slide_type": "subslide"
    }
   },
   "outputs": [],
   "source": [
    "# returns a pivot index\n",
    "# where all values LEFT of the pivot is smaller\n",
    "# and all values RIGHT of the pivot are larger\n",
    "def partition(array, left, right):\n",
    "    index = left\n",
    "    pivot = array[index]\n",
    "\n",
    "    while left < right:\n",
    "        # move from left to right until we find a LARGER number\n",
    "        while :\n",
    "    \n",
    "        # move right to left, until we find a SMALLER number\n",
    "        while :\n",
    "        \n",
    "        # swap left and right\n",
    "                     \n",
    "    # right is now pointing to where the pivot should be\n",
    "    \n",
    "    \n",
    "    return left"
   ]
  },
  {
   "cell_type": "code",
   "execution_count": null,
   "id": "responsible-farming",
   "metadata": {
    "slideshow": {
     "slide_type": "subslide"
    }
   },
   "outputs": [],
   "source": [
    "# Let's try it out\n",
    "import numpy as np\n",
    "arr = np.random.randint(0,20,10)\n",
    "quicksort(arr,0,len(arr)-1)\n",
    "print(arr)"
   ]
  },
  {
   "cell_type": "markdown",
   "id": "korean-generic",
   "metadata": {
    "slideshow": {
     "slide_type": "slide"
    }
   },
   "source": [
    "# How Efficient Is Quicksort?\n",
    "\n",
    "Like Merge Sort, quick sort will (ideally) split up the Log Base-2 times. *O(log n)*\n",
    "\n",
    "Within each partition, each value will be checked. *O(n)*\n",
    "\n",
    "So, the complexity is, ideally, *O(n log n)*\n"
   ]
  },
  {
   "cell_type": "markdown",
   "id": "emerging-award",
   "metadata": {
    "slideshow": {
     "slide_type": "subslide"
    }
   },
   "source": [
    "# More to consider\n",
    "\n",
    "\n",
    "**Consider** if the partition doesn't split the input evenly?\n",
    "\n",
    "**Consider** what benefits this has over Merge Sort?\n",
    "\n",
    "**Recall** How does this compare to Bubble Sort?\n",
    "\n",
    "<img style=\"float:left;\" src=\"quicksort.gif\">\n",
    "<img style=\"float:left;\" src=\"bubblesort.gif\">\n",
    "<img style=\"float:left;\" src=\"insertsort.gif\">"
   ]
  },
  {
   "cell_type": "markdown",
   "id": "bound-signal",
   "metadata": {
    "slideshow": {
     "slide_type": "subslide"
    }
   },
   "source": [
    "![](almostsorted.png)"
   ]
  }
 ],
 "metadata": {
  "celltoolbar": "Slideshow",
  "kernelspec": {
   "display_name": "Python 3",
   "language": "python",
   "name": "python3"
  },
  "language_info": {
   "codemirror_mode": {
    "name": "ipython",
    "version": 3
   },
   "file_extension": ".py",
   "mimetype": "text/x-python",
   "name": "python",
   "nbconvert_exporter": "python",
   "pygments_lexer": "ipython3",
   "version": "3.8.8"
  }
 },
 "nbformat": 4,
 "nbformat_minor": 5
}
